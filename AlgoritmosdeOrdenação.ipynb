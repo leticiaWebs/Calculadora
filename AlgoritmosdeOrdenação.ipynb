{
  "nbformat": 4,
  "nbformat_minor": 0,
  "metadata": {
    "colab": {
      "name": "AlgoritmosdeOrdenação.ipynb",
      "provenance": [],
      "history_visible": true,
      "authorship_tag": "ABX9TyPLypbNxgcdZKoGw/l18oDN",
      "include_colab_link": true
    },
    "kernelspec": {
      "name": "python3",
      "display_name": "Python 3"
    },
    "language_info": {
      "name": "python"
    }
  },
  "cells": [
    {
      "cell_type": "markdown",
      "metadata": {
        "id": "view-in-github",
        "colab_type": "text"
      },
      "source": [
        "<a href=\"https://colab.research.google.com/github/leticiaWebs/Calculadora/blob/main/AlgoritmosdeOrdena%C3%A7%C3%A3o.ipynb\" target=\"_parent\"><img src=\"https://colab.research.google.com/assets/colab-badge.svg\" alt=\"Open In Colab\"/></a>"
      ]
    },
    {
      "cell_type": "code",
      "execution_count": 11,
      "metadata": {
        "id": "lW-DIrbUYdAN"
      },
      "outputs": [],
      "source": [
        "#selection sort \n",
        "import random\n",
        "lista = random.sample(range(1,100),30)\n",
        "\n",
        "def selection_sort(lista):\n",
        "  n = len(lista)\n",
        "  for j in range(n-1): \n",
        "    min_index = j\n",
        "    for i in range(j, n):\n",
        "      if lista [i] < lista[min_index]:\n",
        "       min_index = i\n",
        "      \n",
        "    if lista [j] > lista[min_index] :\n",
        "      aux = lista[j]\n",
        "      lista[j] = lista[min_index]\n",
        "      lista[min_index] = aux\n",
        "    \n",
        "    print(lista)"
      ]
    },
    {
      "cell_type": "code",
      "source": [
        "#insertion sort \n",
        "import random\n",
        "lista = random.sample(range(1,100),30)\n",
        "print(lista)\n",
        "\n",
        "def insertion_sort(lista):\n",
        "  n = len(lista)\n",
        "  for i in range(1 , n): \n",
        "    chave = lista[i]\n",
        "    j = i -1\n",
        "    while j >= 0 and lista [j] > chave: \n",
        "      lista[j + 1] = lista [j]\n",
        "      j = j - 1 \n",
        "    lista[j + 1] = chave\n",
        "  if lista == '_main_':\n",
        "    lista = random.sample\n",
        "    print(lista)\n",
        "    insertion_sort(lista)\n",
        "    print(\"\\n Ordenado: \")\n",
        "    print(lista)\n"
      ],
      "metadata": {
        "colab": {
          "base_uri": "https://localhost:8080/"
        },
        "id": "3Eu48vGRmoPe",
        "outputId": "07810fd3-0b46-4753-dea4-c11ba4c812f0"
      },
      "execution_count": 8,
      "outputs": [
        {
          "output_type": "stream",
          "name": "stdout",
          "text": [
            "[45, 5, 92, 47, 84, 85, 24, 28, 56, 96, 16, 43, 33, 46, 34, 79, 90, 91, 98, 2, 61, 57, 40, 21, 27, 31, 41, 64, 44, 76]\n"
          ]
        }
      ]
    },
    {
      "cell_type": "code",
      "source": [
        "#merge sort \n",
        "def mergesort(lista, inicio = 0, fim =None):\n",
        "  if fim is None:\n",
        "    fim = len(lista)\n",
        "  if(fim - inicio > 1):\n",
        "    meio = (fim + inicio)//2 \n",
        "    mergesort(lista, inicio,meio)\n",
        "    mergesort(lista, meio, fim)\n",
        "    merge(lista, inicio,meio, fim)\n",
        "def merge(lista, inicio, meio, fim): \n",
        "  left = lista[inicio:meio]\n",
        "  right = lista[meio:fim]\n",
        "  i, j = 0, 0 \n",
        "  for k in range(inicio, fim): \n",
        "     if i >= len(left):\n",
        "        lista[k] = right[j]\n",
        "        j = j +1 \n",
        "     elif j >=len(j): \n",
        "       lista [k] = left[i]\n",
        "       i = i = 1 \n",
        "     elif left[i] < right [j]:\n",
        "       lista[k] = left [i]\n",
        "     else:\n",
        "        lista[k] = right [j]\n",
        "        j = j + 1\n"
      ],
      "metadata": {
        "id": "TPedIDnHHCXW"
      },
      "execution_count": 9,
      "outputs": []
    }
  ]
}